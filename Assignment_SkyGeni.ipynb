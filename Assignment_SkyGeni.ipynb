{
  "metadata": {
    "kernelspec": {
      "name": "python",
      "display_name": "Python (Pyodide)",
      "language": "python"
    },
    "language_info": {
      "codemirror_mode": {
        "name": "python",
        "version": 3
      },
      "file_extension": ".py",
      "mimetype": "text/x-python",
      "name": "python",
      "nbconvert_exporter": "python",
      "pygments_lexer": "ipython3",
      "version": "3.8"
    }
  },
  "nbformat_minor": 5,
  "nbformat": 4,
  "cells": [
    {
      "id": "5b3b48bc-a043-4e24-8b32-c7bd232b76e8",
      "cell_type": "code",
      "source": "import pandas as pd",
      "metadata": {
        "trusted": true
      },
      "outputs": [],
      "execution_count": 193
    },
    {
      "id": "50985629-8d77-4924-8490-56ab71852391",
      "cell_type": "code",
      "source": "subscription_information = pd.read_csv('data/subscription_information.csv')\npayment_information = pd.read_csv('data/payment_information.csv')\nfinanical_information = pd.read_csv('data/finanical_information.csv')\nindustry_client_details = pd.read_csv('data/industry_client_details.csv')",
      "metadata": {
        "trusted": true
      },
      "outputs": [],
      "execution_count": 194
    },
    {
      "id": "816e9d14-4fa7-4918-8335-9954f084a403",
      "cell_type": "code",
      "source": "subscription_information",
      "metadata": {
        "trusted": true
      },
      "outputs": [
        {
          "execution_count": 195,
          "output_type": "execute_result",
          "data": {
            "text/plain": "     client_id subscription_type  start_date    end_date  renewed\n0   1131383004            Yearly  2020-11-11  2021-11-11    False\n1   4309371709           Monthly  2021-05-24  2021-06-23     True\n2   3183675157            Yearly  2021-12-25  2022-12-25     True\n3   5371694837           Monthly  2020-03-14  2020-04-13     True\n4   5157113076           Monthly  2019-11-07  2019-12-07    False\n..         ...               ...         ...         ...      ...\n95  4519356806           Monthly  2018-03-04  2018-04-03     True\n96  9714663815           Monthly  2020-11-11  2020-12-11     True\n97  9598980006           Monthly  2019-06-16  2019-07-16     True\n98  3157098196           Monthly  2021-11-11  2021-12-11     True\n99  8540187780           Monthly  2021-02-16  2021-03-18     True\n\n[100 rows x 5 columns]",
            "text/html": "<div>\n<style scoped>\n    .dataframe tbody tr th:only-of-type {\n        vertical-align: middle;\n    }\n\n    .dataframe tbody tr th {\n        vertical-align: top;\n    }\n\n    .dataframe thead th {\n        text-align: right;\n    }\n</style>\n<table border=\"1\" class=\"dataframe\">\n  <thead>\n    <tr style=\"text-align: right;\">\n      <th></th>\n      <th>client_id</th>\n      <th>subscription_type</th>\n      <th>start_date</th>\n      <th>end_date</th>\n      <th>renewed</th>\n    </tr>\n  </thead>\n  <tbody>\n    <tr>\n      <th>0</th>\n      <td>1131383004</td>\n      <td>Yearly</td>\n      <td>2020-11-11</td>\n      <td>2021-11-11</td>\n      <td>False</td>\n    </tr>\n    <tr>\n      <th>1</th>\n      <td>4309371709</td>\n      <td>Monthly</td>\n      <td>2021-05-24</td>\n      <td>2021-06-23</td>\n      <td>True</td>\n    </tr>\n    <tr>\n      <th>2</th>\n      <td>3183675157</td>\n      <td>Yearly</td>\n      <td>2021-12-25</td>\n      <td>2022-12-25</td>\n      <td>True</td>\n    </tr>\n    <tr>\n      <th>3</th>\n      <td>5371694837</td>\n      <td>Monthly</td>\n      <td>2020-03-14</td>\n      <td>2020-04-13</td>\n      <td>True</td>\n    </tr>\n    <tr>\n      <th>4</th>\n      <td>5157113076</td>\n      <td>Monthly</td>\n      <td>2019-11-07</td>\n      <td>2019-12-07</td>\n      <td>False</td>\n    </tr>\n    <tr>\n      <th>...</th>\n      <td>...</td>\n      <td>...</td>\n      <td>...</td>\n      <td>...</td>\n      <td>...</td>\n    </tr>\n    <tr>\n      <th>95</th>\n      <td>4519356806</td>\n      <td>Monthly</td>\n      <td>2018-03-04</td>\n      <td>2018-04-03</td>\n      <td>True</td>\n    </tr>\n    <tr>\n      <th>96</th>\n      <td>9714663815</td>\n      <td>Monthly</td>\n      <td>2020-11-11</td>\n      <td>2020-12-11</td>\n      <td>True</td>\n    </tr>\n    <tr>\n      <th>97</th>\n      <td>9598980006</td>\n      <td>Monthly</td>\n      <td>2019-06-16</td>\n      <td>2019-07-16</td>\n      <td>True</td>\n    </tr>\n    <tr>\n      <th>98</th>\n      <td>3157098196</td>\n      <td>Monthly</td>\n      <td>2021-11-11</td>\n      <td>2021-12-11</td>\n      <td>True</td>\n    </tr>\n    <tr>\n      <th>99</th>\n      <td>8540187780</td>\n      <td>Monthly</td>\n      <td>2021-02-16</td>\n      <td>2021-03-18</td>\n      <td>True</td>\n    </tr>\n  </tbody>\n</table>\n<p>100 rows × 5 columns</p>\n</div>"
          },
          "metadata": {}
        }
      ],
      "execution_count": 195
    },
    {
      "id": "cea1285a-cafd-4887-a8c6-b7585c78da39",
      "cell_type": "code",
      "source": "payment_information",
      "metadata": {
        "trusted": true
      },
      "outputs": [
        {
          "execution_count": 196,
          "output_type": "execute_result",
          "data": {
            "text/plain": "     client_id payment_date  amount_paid payment_method\n0   6292156167    9/16/2019        447.0  Bank Transfer\n1   7462725203    5/21/2018        379.7  Bank Transfer\n2   4698004907    9/11/2021        435.1          Check\n3   3510240337    12/7/2020        413.1          Check\n4   7501599785     3/4/2019         61.1  Bank Transfer\n..         ...          ...          ...            ...\n95  8155233099     6/3/2020        265.9    Credit Card\n96  9752784850    9/15/2021        286.8    Credit Card\n97  8988409533    5/15/2020        163.2    Credit Card\n98  7465144773     9/7/2021        434.6          Check\n99  9159056053    5/28/2022        486.4          Check\n\n[100 rows x 4 columns]",
            "text/html": "<div>\n<style scoped>\n    .dataframe tbody tr th:only-of-type {\n        vertical-align: middle;\n    }\n\n    .dataframe tbody tr th {\n        vertical-align: top;\n    }\n\n    .dataframe thead th {\n        text-align: right;\n    }\n</style>\n<table border=\"1\" class=\"dataframe\">\n  <thead>\n    <tr style=\"text-align: right;\">\n      <th></th>\n      <th>client_id</th>\n      <th>payment_date</th>\n      <th>amount_paid</th>\n      <th>payment_method</th>\n    </tr>\n  </thead>\n  <tbody>\n    <tr>\n      <th>0</th>\n      <td>6292156167</td>\n      <td>9/16/2019</td>\n      <td>447.0</td>\n      <td>Bank Transfer</td>\n    </tr>\n    <tr>\n      <th>1</th>\n      <td>7462725203</td>\n      <td>5/21/2018</td>\n      <td>379.7</td>\n      <td>Bank Transfer</td>\n    </tr>\n    <tr>\n      <th>2</th>\n      <td>4698004907</td>\n      <td>9/11/2021</td>\n      <td>435.1</td>\n      <td>Check</td>\n    </tr>\n    <tr>\n      <th>3</th>\n      <td>3510240337</td>\n      <td>12/7/2020</td>\n      <td>413.1</td>\n      <td>Check</td>\n    </tr>\n    <tr>\n      <th>4</th>\n      <td>7501599785</td>\n      <td>3/4/2019</td>\n      <td>61.1</td>\n      <td>Bank Transfer</td>\n    </tr>\n    <tr>\n      <th>...</th>\n      <td>...</td>\n      <td>...</td>\n      <td>...</td>\n      <td>...</td>\n    </tr>\n    <tr>\n      <th>95</th>\n      <td>8155233099</td>\n      <td>6/3/2020</td>\n      <td>265.9</td>\n      <td>Credit Card</td>\n    </tr>\n    <tr>\n      <th>96</th>\n      <td>9752784850</td>\n      <td>9/15/2021</td>\n      <td>286.8</td>\n      <td>Credit Card</td>\n    </tr>\n    <tr>\n      <th>97</th>\n      <td>8988409533</td>\n      <td>5/15/2020</td>\n      <td>163.2</td>\n      <td>Credit Card</td>\n    </tr>\n    <tr>\n      <th>98</th>\n      <td>7465144773</td>\n      <td>9/7/2021</td>\n      <td>434.6</td>\n      <td>Check</td>\n    </tr>\n    <tr>\n      <th>99</th>\n      <td>9159056053</td>\n      <td>5/28/2022</td>\n      <td>486.4</td>\n      <td>Check</td>\n    </tr>\n  </tbody>\n</table>\n<p>100 rows × 4 columns</p>\n</div>"
          },
          "metadata": {}
        }
      ],
      "execution_count": 196
    },
    {
      "id": "1122e27a-a406-4d43-9627-0ba0d46a7761",
      "cell_type": "code",
      "source": "finanical_information",
      "metadata": {
        "trusted": true
      },
      "outputs": [
        {
          "execution_count": 197,
          "output_type": "execute_result",
          "data": {
            "text/plain": "    Unnamed: 0  start_date    end_date  inflation_rate  gdp_growth_rate\n0            0  2018-01-01  2018-03-31            5.77             3.51\n1            1  2018-04-01  2018-06-30            1.17             2.15\n2            2  2018-07-01  2018-09-30            1.56             1.82\n3            3  2018-10-01  2018-12-31            2.78             2.43\n4            4  2019-01-01  2019-03-31            6.91             3.44\n5            5  2019-04-01  2019-06-30            3.84             3.48\n6            6  2019-07-01  2019-09-30            7.71             1.35\n7            7  2019-10-01  2019-12-31            2.71             1.79\n8            8  2020-01-01  2020-03-31            4.40             1.36\n9            9  2020-04-01  2020-06-30            4.69             1.23\n10          10  2020-07-01  2020-09-30            1.43             2.40\n11          11  2020-10-01  2020-12-31            3.10             2.70\n12          12  2021-01-01  2021-03-31            2.57             1.18\n13          13  2021-04-01  2021-06-30            0.76             3.63\n14          14  2021-07-01  2021-09-30            7.19             1.04\n15          15  2021-10-01  2021-12-31            7.32             1.73\n16          16  2022-01-01  2022-03-31            6.76             2.72\n17          17  2022-04-01  2022-06-30            6.80             3.49\n18          18  2022-07-01  2022-09-30            5.60             3.31\n19          19  2022-10-01  2022-12-31            4.40             1.05\n20          20  2023-01-01  2023-01-03            5.49             3.44",
            "text/html": "<div>\n<style scoped>\n    .dataframe tbody tr th:only-of-type {\n        vertical-align: middle;\n    }\n\n    .dataframe tbody tr th {\n        vertical-align: top;\n    }\n\n    .dataframe thead th {\n        text-align: right;\n    }\n</style>\n<table border=\"1\" class=\"dataframe\">\n  <thead>\n    <tr style=\"text-align: right;\">\n      <th></th>\n      <th>Unnamed: 0</th>\n      <th>start_date</th>\n      <th>end_date</th>\n      <th>inflation_rate</th>\n      <th>gdp_growth_rate</th>\n    </tr>\n  </thead>\n  <tbody>\n    <tr>\n      <th>0</th>\n      <td>0</td>\n      <td>2018-01-01</td>\n      <td>2018-03-31</td>\n      <td>5.77</td>\n      <td>3.51</td>\n    </tr>\n    <tr>\n      <th>1</th>\n      <td>1</td>\n      <td>2018-04-01</td>\n      <td>2018-06-30</td>\n      <td>1.17</td>\n      <td>2.15</td>\n    </tr>\n    <tr>\n      <th>2</th>\n      <td>2</td>\n      <td>2018-07-01</td>\n      <td>2018-09-30</td>\n      <td>1.56</td>\n      <td>1.82</td>\n    </tr>\n    <tr>\n      <th>3</th>\n      <td>3</td>\n      <td>2018-10-01</td>\n      <td>2018-12-31</td>\n      <td>2.78</td>\n      <td>2.43</td>\n    </tr>\n    <tr>\n      <th>4</th>\n      <td>4</td>\n      <td>2019-01-01</td>\n      <td>2019-03-31</td>\n      <td>6.91</td>\n      <td>3.44</td>\n    </tr>\n    <tr>\n      <th>5</th>\n      <td>5</td>\n      <td>2019-04-01</td>\n      <td>2019-06-30</td>\n      <td>3.84</td>\n      <td>3.48</td>\n    </tr>\n    <tr>\n      <th>6</th>\n      <td>6</td>\n      <td>2019-07-01</td>\n      <td>2019-09-30</td>\n      <td>7.71</td>\n      <td>1.35</td>\n    </tr>\n    <tr>\n      <th>7</th>\n      <td>7</td>\n      <td>2019-10-01</td>\n      <td>2019-12-31</td>\n      <td>2.71</td>\n      <td>1.79</td>\n    </tr>\n    <tr>\n      <th>8</th>\n      <td>8</td>\n      <td>2020-01-01</td>\n      <td>2020-03-31</td>\n      <td>4.40</td>\n      <td>1.36</td>\n    </tr>\n    <tr>\n      <th>9</th>\n      <td>9</td>\n      <td>2020-04-01</td>\n      <td>2020-06-30</td>\n      <td>4.69</td>\n      <td>1.23</td>\n    </tr>\n    <tr>\n      <th>10</th>\n      <td>10</td>\n      <td>2020-07-01</td>\n      <td>2020-09-30</td>\n      <td>1.43</td>\n      <td>2.40</td>\n    </tr>\n    <tr>\n      <th>11</th>\n      <td>11</td>\n      <td>2020-10-01</td>\n      <td>2020-12-31</td>\n      <td>3.10</td>\n      <td>2.70</td>\n    </tr>\n    <tr>\n      <th>12</th>\n      <td>12</td>\n      <td>2021-01-01</td>\n      <td>2021-03-31</td>\n      <td>2.57</td>\n      <td>1.18</td>\n    </tr>\n    <tr>\n      <th>13</th>\n      <td>13</td>\n      <td>2021-04-01</td>\n      <td>2021-06-30</td>\n      <td>0.76</td>\n      <td>3.63</td>\n    </tr>\n    <tr>\n      <th>14</th>\n      <td>14</td>\n      <td>2021-07-01</td>\n      <td>2021-09-30</td>\n      <td>7.19</td>\n      <td>1.04</td>\n    </tr>\n    <tr>\n      <th>15</th>\n      <td>15</td>\n      <td>2021-10-01</td>\n      <td>2021-12-31</td>\n      <td>7.32</td>\n      <td>1.73</td>\n    </tr>\n    <tr>\n      <th>16</th>\n      <td>16</td>\n      <td>2022-01-01</td>\n      <td>2022-03-31</td>\n      <td>6.76</td>\n      <td>2.72</td>\n    </tr>\n    <tr>\n      <th>17</th>\n      <td>17</td>\n      <td>2022-04-01</td>\n      <td>2022-06-30</td>\n      <td>6.80</td>\n      <td>3.49</td>\n    </tr>\n    <tr>\n      <th>18</th>\n      <td>18</td>\n      <td>2022-07-01</td>\n      <td>2022-09-30</td>\n      <td>5.60</td>\n      <td>3.31</td>\n    </tr>\n    <tr>\n      <th>19</th>\n      <td>19</td>\n      <td>2022-10-01</td>\n      <td>2022-12-31</td>\n      <td>4.40</td>\n      <td>1.05</td>\n    </tr>\n    <tr>\n      <th>20</th>\n      <td>20</td>\n      <td>2023-01-01</td>\n      <td>2023-01-03</td>\n      <td>5.49</td>\n      <td>3.44</td>\n    </tr>\n  </tbody>\n</table>\n</div>"
          },
          "metadata": {}
        }
      ],
      "execution_count": 197
    },
    {
      "id": "2403f2af-9fab-46f9-85e4-e5ab1d87b57f",
      "cell_type": "code",
      "source": "industry_client_details",
      "metadata": {
        "trusted": true
      },
      "outputs": [
        {
          "execution_count": 198,
          "output_type": "execute_result",
          "data": {
            "text/plain": "     client_id company_size         industry   location\n0   4280387012        Large  Finance Lending     Mumbai\n1   2095513148        Small  Finance Lending    Chennai\n2   7225516707       Medium  Finance Lending  New Delhi\n3   8093537819        Large      Block Chain     Mumbai\n4   4387541014       Medium      Hyper Local   Banglore\n..         ...          ...              ...        ...\n95  9159056053       Medium           Gaming  New Delhi\n96  1077708772        Small      Block Chain     Mumbai\n97  4361672518        Small               AI  New Delhi\n98  6751372012        Large      Hyper Local     Mumbai\n99  6209923307       Medium           Gaming    Chennai\n\n[100 rows x 4 columns]",
            "text/html": "<div>\n<style scoped>\n    .dataframe tbody tr th:only-of-type {\n        vertical-align: middle;\n    }\n\n    .dataframe tbody tr th {\n        vertical-align: top;\n    }\n\n    .dataframe thead th {\n        text-align: right;\n    }\n</style>\n<table border=\"1\" class=\"dataframe\">\n  <thead>\n    <tr style=\"text-align: right;\">\n      <th></th>\n      <th>client_id</th>\n      <th>company_size</th>\n      <th>industry</th>\n      <th>location</th>\n    </tr>\n  </thead>\n  <tbody>\n    <tr>\n      <th>0</th>\n      <td>4280387012</td>\n      <td>Large</td>\n      <td>Finance Lending</td>\n      <td>Mumbai</td>\n    </tr>\n    <tr>\n      <th>1</th>\n      <td>2095513148</td>\n      <td>Small</td>\n      <td>Finance Lending</td>\n      <td>Chennai</td>\n    </tr>\n    <tr>\n      <th>2</th>\n      <td>7225516707</td>\n      <td>Medium</td>\n      <td>Finance Lending</td>\n      <td>New Delhi</td>\n    </tr>\n    <tr>\n      <th>3</th>\n      <td>8093537819</td>\n      <td>Large</td>\n      <td>Block Chain</td>\n      <td>Mumbai</td>\n    </tr>\n    <tr>\n      <th>4</th>\n      <td>4387541014</td>\n      <td>Medium</td>\n      <td>Hyper Local</td>\n      <td>Banglore</td>\n    </tr>\n    <tr>\n      <th>...</th>\n      <td>...</td>\n      <td>...</td>\n      <td>...</td>\n      <td>...</td>\n    </tr>\n    <tr>\n      <th>95</th>\n      <td>9159056053</td>\n      <td>Medium</td>\n      <td>Gaming</td>\n      <td>New Delhi</td>\n    </tr>\n    <tr>\n      <th>96</th>\n      <td>1077708772</td>\n      <td>Small</td>\n      <td>Block Chain</td>\n      <td>Mumbai</td>\n    </tr>\n    <tr>\n      <th>97</th>\n      <td>4361672518</td>\n      <td>Small</td>\n      <td>AI</td>\n      <td>New Delhi</td>\n    </tr>\n    <tr>\n      <th>98</th>\n      <td>6751372012</td>\n      <td>Large</td>\n      <td>Hyper Local</td>\n      <td>Mumbai</td>\n    </tr>\n    <tr>\n      <th>99</th>\n      <td>6209923307</td>\n      <td>Medium</td>\n      <td>Gaming</td>\n      <td>Chennai</td>\n    </tr>\n  </tbody>\n</table>\n<p>100 rows × 4 columns</p>\n</div>"
          },
          "metadata": {}
        }
      ],
      "execution_count": 198
    },
    {
      "id": "c52f39d3-191a-4aa4-a878-3ff03104ad3c",
      "cell_type": "markdown",
      "source": "Que 1: How many finance lending and blockchain clients does the organization have?",
      "metadata": {}
    },
    {
      "id": "ef84078f-d6e0-4527-aca4-a49169d805a5",
      "cell_type": "code",
      "source": "df = industry_client_details[industry_client_details['industry'].isin(['Finance Lending','Block Chain'])].groupby('industry')[['industry']].count()\ndf",
      "metadata": {
        "trusted": true
      },
      "outputs": [
        {
          "execution_count": 199,
          "output_type": "execute_result",
          "data": {
            "text/plain": "                 industry\nindustry                 \nBlock Chain            25\nFinance Lending        22",
            "text/html": "<div>\n<style scoped>\n    .dataframe tbody tr th:only-of-type {\n        vertical-align: middle;\n    }\n\n    .dataframe tbody tr th {\n        vertical-align: top;\n    }\n\n    .dataframe thead th {\n        text-align: right;\n    }\n</style>\n<table border=\"1\" class=\"dataframe\">\n  <thead>\n    <tr style=\"text-align: right;\">\n      <th></th>\n      <th>industry</th>\n    </tr>\n    <tr>\n      <th>industry</th>\n      <th></th>\n    </tr>\n  </thead>\n  <tbody>\n    <tr>\n      <th>Block Chain</th>\n      <td>25</td>\n    </tr>\n    <tr>\n      <th>Finance Lending</th>\n      <td>22</td>\n    </tr>\n  </tbody>\n</table>\n</div>"
          },
          "metadata": {}
        }
      ],
      "execution_count": 199
    },
    {
      "id": "e31f457d-b402-4b7e-b2f1-28d1a8c08e25",
      "cell_type": "code",
      "source": "df = industry_client_details[industry_client_details['industry'].isin(['Finance Lending','Block Chain'])].shape[0]\ndf",
      "metadata": {
        "trusted": true
      },
      "outputs": [
        {
          "execution_count": 200,
          "output_type": "execute_result",
          "data": {
            "text/plain": "47"
          },
          "metadata": {}
        }
      ],
      "execution_count": 200
    },
    {
      "id": "9a919e27-3f2b-4bee-a360-38cada69b406",
      "cell_type": "markdown",
      "source": "Que 2: Which industry in the organization has the highest renewal rate?",
      "metadata": {}
    },
    {
      "id": "b24bdb25-b9ad-40b1-a6a3-9c8884e18764",
      "cell_type": "code",
      "source": "df = subscription_information.merge(industry_client_details, on = 'client_id', how = 'left')\ndf = df[df['renewed'] == True].groupby('industry').count()\nprint(df.sort_values('client_id', ascending=False).index[0])",
      "metadata": {
        "trusted": true
      },
      "outputs": [
        {
          "name": "stdout",
          "output_type": "stream",
          "text": "Gaming\n"
        }
      ],
      "execution_count": 201
    },
    {
      "id": "15896043-d851-4721-b1f2-49c1cb14878a",
      "cell_type": "markdown",
      "source": "Que 3: What was the average inflation rate when their subscriptions were renewed?\n",
      "metadata": {}
    },
    {
      "id": "23091b17-c230-4f2d-b3cf-839d0bdde943",
      "cell_type": "code",
      "source": "subscription_information_renewed = subscription_information[subscription_information['renewed'] == True]\nsubscription_information['start_date'] = pd.to_datetime(subscription_information['start_date'])\nfinanical_information['start_date'] = pd.to_datetime(finanical_information['start_date'])\nfinanical_information['end_date'] = pd.to_datetime(finanical_information['end_date'])\n\nfinanical_information\nsubscription_information",
      "metadata": {
        "trusted": true
      },
      "outputs": [
        {
          "execution_count": 202,
          "output_type": "execute_result",
          "data": {
            "text/plain": "     client_id subscription_type start_date    end_date  renewed\n0   1131383004            Yearly 2020-11-11  2021-11-11    False\n1   4309371709           Monthly 2021-05-24  2021-06-23     True\n2   3183675157            Yearly 2021-12-25  2022-12-25     True\n3   5371694837           Monthly 2020-03-14  2020-04-13     True\n4   5157113076           Monthly 2019-11-07  2019-12-07    False\n..         ...               ...        ...         ...      ...\n95  4519356806           Monthly 2018-03-04  2018-04-03     True\n96  9714663815           Monthly 2020-11-11  2020-12-11     True\n97  9598980006           Monthly 2019-06-16  2019-07-16     True\n98  3157098196           Monthly 2021-11-11  2021-12-11     True\n99  8540187780           Monthly 2021-02-16  2021-03-18     True\n\n[100 rows x 5 columns]",
            "text/html": "<div>\n<style scoped>\n    .dataframe tbody tr th:only-of-type {\n        vertical-align: middle;\n    }\n\n    .dataframe tbody tr th {\n        vertical-align: top;\n    }\n\n    .dataframe thead th {\n        text-align: right;\n    }\n</style>\n<table border=\"1\" class=\"dataframe\">\n  <thead>\n    <tr style=\"text-align: right;\">\n      <th></th>\n      <th>client_id</th>\n      <th>subscription_type</th>\n      <th>start_date</th>\n      <th>end_date</th>\n      <th>renewed</th>\n    </tr>\n  </thead>\n  <tbody>\n    <tr>\n      <th>0</th>\n      <td>1131383004</td>\n      <td>Yearly</td>\n      <td>2020-11-11</td>\n      <td>2021-11-11</td>\n      <td>False</td>\n    </tr>\n    <tr>\n      <th>1</th>\n      <td>4309371709</td>\n      <td>Monthly</td>\n      <td>2021-05-24</td>\n      <td>2021-06-23</td>\n      <td>True</td>\n    </tr>\n    <tr>\n      <th>2</th>\n      <td>3183675157</td>\n      <td>Yearly</td>\n      <td>2021-12-25</td>\n      <td>2022-12-25</td>\n      <td>True</td>\n    </tr>\n    <tr>\n      <th>3</th>\n      <td>5371694837</td>\n      <td>Monthly</td>\n      <td>2020-03-14</td>\n      <td>2020-04-13</td>\n      <td>True</td>\n    </tr>\n    <tr>\n      <th>4</th>\n      <td>5157113076</td>\n      <td>Monthly</td>\n      <td>2019-11-07</td>\n      <td>2019-12-07</td>\n      <td>False</td>\n    </tr>\n    <tr>\n      <th>...</th>\n      <td>...</td>\n      <td>...</td>\n      <td>...</td>\n      <td>...</td>\n      <td>...</td>\n    </tr>\n    <tr>\n      <th>95</th>\n      <td>4519356806</td>\n      <td>Monthly</td>\n      <td>2018-03-04</td>\n      <td>2018-04-03</td>\n      <td>True</td>\n    </tr>\n    <tr>\n      <th>96</th>\n      <td>9714663815</td>\n      <td>Monthly</td>\n      <td>2020-11-11</td>\n      <td>2020-12-11</td>\n      <td>True</td>\n    </tr>\n    <tr>\n      <th>97</th>\n      <td>9598980006</td>\n      <td>Monthly</td>\n      <td>2019-06-16</td>\n      <td>2019-07-16</td>\n      <td>True</td>\n    </tr>\n    <tr>\n      <th>98</th>\n      <td>3157098196</td>\n      <td>Monthly</td>\n      <td>2021-11-11</td>\n      <td>2021-12-11</td>\n      <td>True</td>\n    </tr>\n    <tr>\n      <th>99</th>\n      <td>8540187780</td>\n      <td>Monthly</td>\n      <td>2021-02-16</td>\n      <td>2021-03-18</td>\n      <td>True</td>\n    </tr>\n  </tbody>\n</table>\n<p>100 rows × 5 columns</p>\n</div>"
          },
          "metadata": {}
        }
      ],
      "execution_count": 202
    },
    {
      "id": "eac33315-2336-43f2-ae4b-f28e9ea23d38",
      "cell_type": "code",
      "source": "inflation_rates = []\nfor date in subscription_information_renewed['start_date']:\n    rates = finanical_information[(date >= finanical_information['start_date']) & (date <= finanical_information['end_date'])]['inflation_rate']\n    inflation_rates.append(rates.mean())\n    \navg_inflation_rate = sum(inflation_rates)/len(inflation_rates)\nprint(avg_inflation_rate)",
      "metadata": {
        "trusted": true
      },
      "outputs": [
        {
          "name": "stdout",
          "output_type": "stream",
          "text": "4.444545454545454\n"
        }
      ],
      "execution_count": 203
    },
    {
      "id": "6ef2bf54-5bdd-451f-a6b3-abb994527441",
      "cell_type": "markdown",
      "source": "Que 4: What is the median amount paid each year for all payment methods? ",
      "metadata": {}
    },
    {
      "id": "87038653-72ae-421c-825f-40e0bd4fe27b",
      "cell_type": "code",
      "source": "payment_information['payment_year'] = pd.DatetimeIndex(payment_information['payment_date']).year\ndf = payment_information.groupby(['payment_year'])['amount_paid'].median()\nprint(df)",
      "metadata": {
        "trusted": true
      },
      "outputs": [
        {
          "name": "stdout",
          "output_type": "stream",
          "text": "payment_year\n2018    235.7\n2019    360.9\n2020    284.5\n2021    306.8\n2022    288.0\nName: amount_paid, dtype: float64\n"
        }
      ],
      "execution_count": 204
    },
    {
      "id": "5cb74221-47cb-4097-93c5-33fe10e510aa",
      "cell_type": "code",
      "source": "",
      "metadata": {
        "trusted": true
      },
      "outputs": [],
      "execution_count": null
    }
  ]
}